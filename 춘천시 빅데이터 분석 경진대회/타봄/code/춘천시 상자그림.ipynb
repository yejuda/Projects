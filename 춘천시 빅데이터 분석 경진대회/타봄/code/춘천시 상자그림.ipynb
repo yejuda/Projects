{
 "cells": [
  {
   "cell_type": "code",
   "execution_count": 1,
   "id": "c4fc972e",
   "metadata": {},
   "outputs": [],
   "source": [
    "import pandas as pd\n",
    "import numpy as np\n",
    "import matplotlib.pyplot as plt\n",
    "import seaborn as sns\n",
    "plt.rcParams['figure.figsize'] = [10, 6]\n",
    "%matplotlib inline"
   ]
  },
  {
   "cell_type": "markdown",
   "id": "c25751f1",
   "metadata": {},
   "source": [
    "### 데이터 불러오기"
   ]
  },
  {
   "cell_type": "code",
   "execution_count": 2,
   "id": "46f1bd6e",
   "metadata": {
    "scrolled": true
   },
   "outputs": [
    {
     "data": {
      "text/html": [
       "<div>\n",
       "<style scoped>\n",
       "    .dataframe tbody tr th:only-of-type {\n",
       "        vertical-align: middle;\n",
       "    }\n",
       "\n",
       "    .dataframe tbody tr th {\n",
       "        vertical-align: top;\n",
       "    }\n",
       "\n",
       "    .dataframe thead th {\n",
       "        text-align: right;\n",
       "    }\n",
       "</style>\n",
       "<table border=\"1\" class=\"dataframe\">\n",
       "  <thead>\n",
       "    <tr style=\"text-align: right;\">\n",
       "      <th></th>\n",
       "      <th>상호명</th>\n",
       "      <th>날짜</th>\n",
       "      <th>업종</th>\n",
       "      <th>위도</th>\n",
       "      <th>경도</th>\n",
       "      <th>시도</th>\n",
       "      <th>시군구</th>\n",
       "      <th>읍면동</th>\n",
       "      <th>이용자수</th>\n",
       "      <th>남성비율</th>\n",
       "      <th>여성비율</th>\n",
       "      <th>10대비율</th>\n",
       "      <th>20대비율</th>\n",
       "      <th>30대비율</th>\n",
       "      <th>40대비율</th>\n",
       "      <th>50대이상비율</th>\n",
       "      <th>데이터기준일</th>\n",
       "    </tr>\n",
       "  </thead>\n",
       "  <tbody>\n",
       "    <tr>\n",
       "      <th>0</th>\n",
       "      <td>(주)화천레미콘</td>\n",
       "      <td>2021-07-19</td>\n",
       "      <td>기타시설</td>\n",
       "      <td>37.851783</td>\n",
       "      <td>127.750995</td>\n",
       "      <td>강원</td>\n",
       "      <td>춘천시</td>\n",
       "      <td>석사동</td>\n",
       "      <td>551</td>\n",
       "      <td>26.17</td>\n",
       "      <td>73.83</td>\n",
       "      <td>0.97</td>\n",
       "      <td>2.47</td>\n",
       "      <td>1.36</td>\n",
       "      <td>4.14</td>\n",
       "      <td>91.06</td>\n",
       "      <td>2021-12-21</td>\n",
       "    </tr>\n",
       "    <tr>\n",
       "      <th>1</th>\n",
       "      <td>여의도순복음춘천교회</td>\n",
       "      <td>2021-07-19</td>\n",
       "      <td>종교시설</td>\n",
       "      <td>37.849759</td>\n",
       "      <td>127.755033</td>\n",
       "      <td>강원</td>\n",
       "      <td>춘천시</td>\n",
       "      <td>동내면 거두리</td>\n",
       "      <td>79</td>\n",
       "      <td>42.50</td>\n",
       "      <td>57.50</td>\n",
       "      <td>13.22</td>\n",
       "      <td>18.84</td>\n",
       "      <td>25.55</td>\n",
       "      <td>21.69</td>\n",
       "      <td>20.70</td>\n",
       "      <td>2021-12-21</td>\n",
       "    </tr>\n",
       "    <tr>\n",
       "      <th>2</th>\n",
       "      <td>디자인카페티이오</td>\n",
       "      <td>2021-07-19</td>\n",
       "      <td>카페</td>\n",
       "      <td>37.884288</td>\n",
       "      <td>127.728886</td>\n",
       "      <td>강원</td>\n",
       "      <td>춘천시</td>\n",
       "      <td>요선동</td>\n",
       "      <td>95</td>\n",
       "      <td>46.24</td>\n",
       "      <td>53.76</td>\n",
       "      <td>13.52</td>\n",
       "      <td>20.90</td>\n",
       "      <td>21.89</td>\n",
       "      <td>21.74</td>\n",
       "      <td>21.95</td>\n",
       "      <td>2021-12-21</td>\n",
       "    </tr>\n",
       "    <tr>\n",
       "      <th>3</th>\n",
       "      <td>브이스페이스(VSpace)</td>\n",
       "      <td>2021-07-19</td>\n",
       "      <td>카페</td>\n",
       "      <td>37.815480</td>\n",
       "      <td>127.716347</td>\n",
       "      <td>강원</td>\n",
       "      <td>춘천시</td>\n",
       "      <td>신동면 증리</td>\n",
       "      <td>72</td>\n",
       "      <td>55.17</td>\n",
       "      <td>44.83</td>\n",
       "      <td>10.38</td>\n",
       "      <td>20.74</td>\n",
       "      <td>20.02</td>\n",
       "      <td>22.26</td>\n",
       "      <td>26.60</td>\n",
       "      <td>2021-12-21</td>\n",
       "    </tr>\n",
       "    <tr>\n",
       "      <th>4</th>\n",
       "      <td>오꼬만봄내점</td>\n",
       "      <td>2021-07-19</td>\n",
       "      <td>음식점</td>\n",
       "      <td>37.855721</td>\n",
       "      <td>127.745546</td>\n",
       "      <td>강원</td>\n",
       "      <td>춘천시</td>\n",
       "      <td>석사동</td>\n",
       "      <td>315</td>\n",
       "      <td>28.96</td>\n",
       "      <td>71.04</td>\n",
       "      <td>15.33</td>\n",
       "      <td>21.03</td>\n",
       "      <td>19.13</td>\n",
       "      <td>22.74</td>\n",
       "      <td>21.77</td>\n",
       "      <td>2021-12-21</td>\n",
       "    </tr>\n",
       "  </tbody>\n",
       "</table>\n",
       "</div>"
      ],
      "text/plain": [
       "              상호명          날짜    업종         위도          경도  시도  시군구      읍면동  \\\n",
       "0        (주)화천레미콘  2021-07-19  기타시설  37.851783  127.750995  강원  춘천시      석사동   \n",
       "1      여의도순복음춘천교회  2021-07-19  종교시설  37.849759  127.755033  강원  춘천시  동내면 거두리   \n",
       "2        디자인카페티이오  2021-07-19    카페  37.884288  127.728886  강원  춘천시      요선동   \n",
       "3  브이스페이스(VSpace)  2021-07-19    카페  37.815480  127.716347  강원  춘천시   신동면 증리   \n",
       "4          오꼬만봄내점  2021-07-19   음식점  37.855721  127.745546  강원  춘천시      석사동   \n",
       "\n",
       "   이용자수   남성비율   여성비율  10대비율  20대비율  30대비율  40대비율  50대이상비율      데이터기준일  \n",
       "0   551  26.17  73.83   0.97   2.47   1.36   4.14    91.06  2021-12-21  \n",
       "1    79  42.50  57.50  13.22  18.84  25.55  21.69    20.70  2021-12-21  \n",
       "2    95  46.24  53.76  13.52  20.90  21.89  21.74    21.95  2021-12-21  \n",
       "3    72  55.17  44.83  10.38  20.74  20.02  22.26    26.60  2021-12-21  \n",
       "4   315  28.96  71.04  15.33  21.03  19.13  22.74    21.77  2021-12-21  "
      ]
     },
     "execution_count": 2,
     "metadata": {},
     "output_type": "execute_result"
    }
   ],
   "source": [
    "df = pd.read_csv(r'C:\\Users\\Jimin\\Documents\\춘천시\\춘천시데이터_업종별지역.csv', encoding = 'CP949')\n",
    "df.head()"
   ]
  },
  {
   "cell_type": "markdown",
   "id": "429f16f5",
   "metadata": {},
   "source": [
    "### 데이터 전처리"
   ]
  },
  {
   "cell_type": "code",
   "execution_count": 3,
   "id": "30bcc67a",
   "metadata": {},
   "outputs": [
    {
     "data": {
      "text/html": [
       "<div>\n",
       "<style scoped>\n",
       "    .dataframe tbody tr th:only-of-type {\n",
       "        vertical-align: middle;\n",
       "    }\n",
       "\n",
       "    .dataframe tbody tr th {\n",
       "        vertical-align: top;\n",
       "    }\n",
       "\n",
       "    .dataframe thead th {\n",
       "        text-align: right;\n",
       "    }\n",
       "</style>\n",
       "<table border=\"1\" class=\"dataframe\">\n",
       "  <thead>\n",
       "    <tr style=\"text-align: right;\">\n",
       "      <th></th>\n",
       "      <th></th>\n",
       "      <th>위도</th>\n",
       "      <th>경도</th>\n",
       "      <th>이용자수</th>\n",
       "      <th>남성비율</th>\n",
       "      <th>여성비율</th>\n",
       "      <th>10대비율</th>\n",
       "      <th>20대비율</th>\n",
       "      <th>30대비율</th>\n",
       "      <th>40대비율</th>\n",
       "      <th>50대이상비율</th>\n",
       "    </tr>\n",
       "    <tr>\n",
       "      <th>상호명</th>\n",
       "      <th>업종</th>\n",
       "      <th></th>\n",
       "      <th></th>\n",
       "      <th></th>\n",
       "      <th></th>\n",
       "      <th></th>\n",
       "      <th></th>\n",
       "      <th></th>\n",
       "      <th></th>\n",
       "      <th></th>\n",
       "      <th></th>\n",
       "    </tr>\n",
       "  </thead>\n",
       "  <tbody>\n",
       "    <tr>\n",
       "      <th>emart24(백령마을)</th>\n",
       "      <th>편의점</th>\n",
       "      <td>37.865568</td>\n",
       "      <td>127.738259</td>\n",
       "      <td>110.639344</td>\n",
       "      <td>52.842705</td>\n",
       "      <td>47.157295</td>\n",
       "      <td>12.965328</td>\n",
       "      <td>20.530164</td>\n",
       "      <td>23.040574</td>\n",
       "      <td>21.432049</td>\n",
       "      <td>22.031885</td>\n",
       "    </tr>\n",
       "    <tr>\n",
       "      <th>#탁구세상</th>\n",
       "      <th>실내집단운동시설</th>\n",
       "      <td>37.874463</td>\n",
       "      <td>127.745691</td>\n",
       "      <td>195.549180</td>\n",
       "      <td>51.854508</td>\n",
       "      <td>48.145492</td>\n",
       "      <td>11.548607</td>\n",
       "      <td>18.544672</td>\n",
       "      <td>21.679098</td>\n",
       "      <td>19.795984</td>\n",
       "      <td>28.431639</td>\n",
       "    </tr>\n",
       "    <tr>\n",
       "      <th>(사)강원도지체장애인협회</th>\n",
       "      <th>공공시설</th>\n",
       "      <td>37.896988</td>\n",
       "      <td>127.749960</td>\n",
       "      <td>83.991803</td>\n",
       "      <td>52.214098</td>\n",
       "      <td>47.785902</td>\n",
       "      <td>16.090492</td>\n",
       "      <td>15.300164</td>\n",
       "      <td>23.959344</td>\n",
       "      <td>25.343279</td>\n",
       "      <td>19.306721</td>\n",
       "    </tr>\n",
       "    <tr>\n",
       "      <th>(사)문화프로덕션도모</th>\n",
       "      <th>관광시설</th>\n",
       "      <td>37.817971</td>\n",
       "      <td>127.719708</td>\n",
       "      <td>75.196721</td>\n",
       "      <td>57.329344</td>\n",
       "      <td>42.670656</td>\n",
       "      <td>9.650000</td>\n",
       "      <td>20.095656</td>\n",
       "      <td>19.246639</td>\n",
       "      <td>21.537377</td>\n",
       "      <td>29.470328</td>\n",
       "    </tr>\n",
       "    <tr>\n",
       "      <th>(주)SC이엔지</th>\n",
       "      <th>기타시설</th>\n",
       "      <td>37.858098</td>\n",
       "      <td>127.745978</td>\n",
       "      <td>1058.368852</td>\n",
       "      <td>35.521230</td>\n",
       "      <td>64.478770</td>\n",
       "      <td>15.350984</td>\n",
       "      <td>21.102541</td>\n",
       "      <td>19.658607</td>\n",
       "      <td>22.001230</td>\n",
       "      <td>21.886639</td>\n",
       "    </tr>\n",
       "  </tbody>\n",
       "</table>\n",
       "</div>"
      ],
      "text/plain": [
       "                                위도          경도         이용자수       남성비율  \\\n",
       "상호명            업종                                                        \n",
       " emart24(백령마을) 편의점       37.865568  127.738259   110.639344  52.842705   \n",
       "#탁구세상          실내집단운동시설  37.874463  127.745691   195.549180  51.854508   \n",
       "(사)강원도지체장애인협회  공공시설      37.896988  127.749960    83.991803  52.214098   \n",
       "(사)문화프로덕션도모    관광시설      37.817971  127.719708    75.196721  57.329344   \n",
       "(주)SC이엔지       기타시설      37.858098  127.745978  1058.368852  35.521230   \n",
       "\n",
       "                              여성비율      10대비율      20대비율      30대비율  \\\n",
       "상호명            업종                                                     \n",
       " emart24(백령마을) 편의점       47.157295  12.965328  20.530164  23.040574   \n",
       "#탁구세상          실내집단운동시설  48.145492  11.548607  18.544672  21.679098   \n",
       "(사)강원도지체장애인협회  공공시설      47.785902  16.090492  15.300164  23.959344   \n",
       "(사)문화프로덕션도모    관광시설      42.670656   9.650000  20.095656  19.246639   \n",
       "(주)SC이엔지       기타시설      64.478770  15.350984  21.102541  19.658607   \n",
       "\n",
       "                             40대비율    50대이상비율  \n",
       "상호명            업종                              \n",
       " emart24(백령마을) 편의점       21.432049  22.031885  \n",
       "#탁구세상          실내집단운동시설  19.795984  28.431639  \n",
       "(사)강원도지체장애인협회  공공시설      25.343279  19.306721  \n",
       "(사)문화프로덕션도모    관광시설      21.537377  29.470328  \n",
       "(주)SC이엔지       기타시설      22.001230  21.886639  "
      ]
     },
     "execution_count": 3,
     "metadata": {},
     "output_type": "execute_result"
    }
   ],
   "source": [
    "df = df.groupby(['상호명', '업종']).mean()\n",
    "df.head()"
   ]
  },
  {
   "cell_type": "markdown",
   "id": "0dad403e",
   "metadata": {},
   "source": [
    "### 데이터 살펴보기 (상자그림)"
   ]
  },
  {
   "cell_type": "code",
   "execution_count": 4,
   "id": "5ce91f55",
   "metadata": {},
   "outputs": [
    {
     "data": {
      "image/png": "[encoded data removed]",
      "text/plain": [
       "<Figure size 1000x600 with 1 Axes>"
      ]
     },
     "metadata": {},
     "output_type": "display_data"
    },
    {
     "name": "stdout",
     "output_type": "stream",
     "text": [
      "count     7998.000000\n",
      "mean       807.534366\n",
      "std       6092.521306\n",
      "min         69.442623\n",
      "25%         88.663934\n",
      "50%        113.622951\n",
      "75%        167.227459\n",
      "max      87294.483607\n",
      "Name: 이용자수, dtype: float64\n"
     ]
    }
   ],
   "source": [
    "plt.boxplot(df['이용자수'])\n",
    "plt.title('user data')\n",
    "plt.show()\n",
    "print(df['이용자수'].describe())"
   ]
  },
  {
   "cell_type": "code",
   "execution_count": 5,
   "id": "bde24900",
   "metadata": {},
   "outputs": [
    {
     "data": {
      "image/png": "[encoded data removed]",
      "text/plain": [
       "<Figure size 1000x600 with 1 Axes>"
      ]
     },
     "metadata": {},
     "output_type": "display_data"
    },
    {
     "name": "stdout",
     "output_type": "stream",
     "text": [
      "count    7998.000000\n",
      "mean       19.353533\n",
      "std         3.522036\n",
      "min         2.012131\n",
      "25%        17.684693\n",
      "50%        20.564795\n",
      "75%        21.150205\n",
      "max        41.248852\n",
      "Name: 20대비율, dtype: float64\n"
     ]
    }
   ],
   "source": [
    "plt.boxplot(df['20대비율'])\n",
    "plt.title('20 users ratio')\n",
    "plt.show()\n",
    "print(df['20대비율'].describe())"
   ]
  },
  {
   "cell_type": "code",
   "execution_count": 6,
   "id": "d21883df",
   "metadata": {},
   "outputs": [
    {
     "data": {
      "image/png": "[encoded data removed]",
      "text/plain": [
       "<Figure size 1000x600 with 1 Axes>"
      ]
     },
     "metadata": {},
     "output_type": "display_data"
    },
    {
     "name": "stdout",
     "output_type": "stream",
     "text": [
      "count    7998.000000\n",
      "mean       21.541176\n",
      "std         3.758424\n",
      "min         2.060656\n",
      "25%        19.796865\n",
      "50%        22.008484\n",
      "75%        23.149098\n",
      "max        31.085656\n",
      "Name: 30대비율, dtype: float64\n"
     ]
    }
   ],
   "source": [
    "plt.boxplot(df['30대비율'])\n",
    "plt.title('30 users ratio')\n",
    "plt.show()\n",
    "print(df['30대비율'].describe())"
   ]
  },
  {
   "cell_type": "markdown",
   "id": "e3fc2adf",
   "metadata": {},
   "source": [
    "### 데이터 전처리"
   ]
  },
  {
   "cell_type": "code",
   "execution_count": 7,
   "id": "cda0c092",
   "metadata": {},
   "outputs": [],
   "source": [
    "# 4분위수 구하기\n",
    "user_Q1 = df['이용자수'].quantile(.25)\n",
    "user_Q2 = df['이용자수'].quantile(.5)\n",
    "user_Q3 = df['이용자수'].quantile(.75)\n",
    "user_Q4 = df['이용자수'].quantile(1)\n",
    "user_IQR = user_Q3 - user_Q1\n",
    "\n",
    "user_min = user_Q2 - 1.5*user_IQR\n",
    "user_max = user_Q2 + 1.5*user_IQR"
   ]
  },
  {
   "cell_type": "code",
   "execution_count": 8,
   "id": "8dafb3d2",
   "metadata": {},
   "outputs": [],
   "source": [
    "twenty_Q1 = df['20대비율'].quantile(.25)\n",
    "twenty_Q2 = df['20대비율'].quantile(.5)\n",
    "twenty_Q3 = df['20대비율'].quantile(.75)\n",
    "twenty_Q4 = df['20대비율'].quantile(1)\n",
    "twenty_IQR = twenty_Q3 - twenty_Q1\n",
    "\n",
    "twenty_min = twenty_Q2 - 1.5*twenty_IQR\n",
    "twenty_max = twenty_Q2 + 1.5*twenty_IQR"
   ]
  },
  {
   "cell_type": "code",
   "execution_count": 9,
   "id": "4f5371e8",
   "metadata": {},
   "outputs": [],
   "source": [
    "thirty_Q1 = df['30대비율'].quantile(.25)\n",
    "thirty_Q2 = df['30대비율'].quantile(.5)\n",
    "thirty_Q3 = df['30대비율'].quantile(.75)\n",
    "thirty_Q4 = df['30대비율'].quantile(1)\n",
    "thirty_IQR = thirty_Q3 - thirty_Q1\n",
    "\n",
    "thirty_min = thirty_Q2 - 1.5*thirty_IQR\n",
    "thirty_max = thirty_Q2 - 1.5*thirty_IQR"
   ]
  },
  {
   "cell_type": "code",
   "execution_count": 10,
   "id": "3671d9ee",
   "metadata": {},
   "outputs": [],
   "source": [
    "Df = df[(df['이용자수']>=user_Q1) & (df['이용자수'] < user_max) & (df['20대비율']>=twenty_Q1) & (df['30대비율']>=thirty_Q1)]"
   ]
  },
  {
   "cell_type": "code",
   "execution_count": 11,
   "id": "72461fd1",
   "metadata": {},
   "outputs": [
    {
     "data": {
      "text/html": [
       "<div>\n",
       "<style scoped>\n",
       "    .dataframe tbody tr th:only-of-type {\n",
       "        vertical-align: middle;\n",
       "    }\n",
       "\n",
       "    .dataframe tbody tr th {\n",
       "        vertical-align: top;\n",
       "    }\n",
       "\n",
       "    .dataframe thead th {\n",
       "        text-align: right;\n",
       "    }\n",
       "</style>\n",
       "<table border=\"1\" class=\"dataframe\">\n",
       "  <thead>\n",
       "    <tr style=\"text-align: right;\">\n",
       "      <th></th>\n",
       "      <th></th>\n",
       "      <th>위도</th>\n",
       "      <th>경도</th>\n",
       "      <th>이용자수</th>\n",
       "      <th>남성비율</th>\n",
       "      <th>여성비율</th>\n",
       "      <th>10대비율</th>\n",
       "      <th>20대비율</th>\n",
       "      <th>30대비율</th>\n",
       "      <th>40대비율</th>\n",
       "      <th>50대이상비율</th>\n",
       "    </tr>\n",
       "    <tr>\n",
       "      <th>상호명</th>\n",
       "      <th>업종</th>\n",
       "      <th></th>\n",
       "      <th></th>\n",
       "      <th></th>\n",
       "      <th></th>\n",
       "      <th></th>\n",
       "      <th></th>\n",
       "      <th></th>\n",
       "      <th></th>\n",
       "      <th></th>\n",
       "      <th></th>\n",
       "    </tr>\n",
       "  </thead>\n",
       "  <tbody>\n",
       "    <tr>\n",
       "      <th>emart24(백령마을)</th>\n",
       "      <th>편의점</th>\n",
       "      <td>37.865568</td>\n",
       "      <td>127.738259</td>\n",
       "      <td>110.639344</td>\n",
       "      <td>52.842705</td>\n",
       "      <td>47.157295</td>\n",
       "      <td>12.965328</td>\n",
       "      <td>20.530164</td>\n",
       "      <td>23.040574</td>\n",
       "      <td>21.432049</td>\n",
       "      <td>22.031885</td>\n",
       "    </tr>\n",
       "    <tr>\n",
       "      <th>#탁구세상</th>\n",
       "      <th>실내집단운동시설</th>\n",
       "      <td>37.874463</td>\n",
       "      <td>127.745691</td>\n",
       "      <td>195.549180</td>\n",
       "      <td>51.854508</td>\n",
       "      <td>48.145492</td>\n",
       "      <td>11.548607</td>\n",
       "      <td>18.544672</td>\n",
       "      <td>21.679098</td>\n",
       "      <td>19.795984</td>\n",
       "      <td>28.431639</td>\n",
       "    </tr>\n",
       "    <tr>\n",
       "      <th>(주)도화전기</th>\n",
       "      <th>기타시설</th>\n",
       "      <td>37.876324</td>\n",
       "      <td>127.735091</td>\n",
       "      <td>156.967213</td>\n",
       "      <td>47.345902</td>\n",
       "      <td>52.654098</td>\n",
       "      <td>13.329344</td>\n",
       "      <td>20.643033</td>\n",
       "      <td>23.126885</td>\n",
       "      <td>21.182541</td>\n",
       "      <td>21.718197</td>\n",
       "    </tr>\n",
       "    <tr>\n",
       "      <th>(주)동서엔지니어링</th>\n",
       "      <th>기타시설</th>\n",
       "      <td>37.858317</td>\n",
       "      <td>127.741909</td>\n",
       "      <td>142.262295</td>\n",
       "      <td>49.975574</td>\n",
       "      <td>50.024426</td>\n",
       "      <td>15.588852</td>\n",
       "      <td>21.300902</td>\n",
       "      <td>19.929098</td>\n",
       "      <td>21.641885</td>\n",
       "      <td>21.539262</td>\n",
       "    </tr>\n",
       "    <tr>\n",
       "      <th>(주)리저브카본</th>\n",
       "      <th>기타시설</th>\n",
       "      <td>37.856751</td>\n",
       "      <td>127.741591</td>\n",
       "      <td>90.704918</td>\n",
       "      <td>39.088934</td>\n",
       "      <td>60.911066</td>\n",
       "      <td>15.628607</td>\n",
       "      <td>21.429016</td>\n",
       "      <td>20.435492</td>\n",
       "      <td>20.035000</td>\n",
       "      <td>22.471885</td>\n",
       "    </tr>\n",
       "  </tbody>\n",
       "</table>\n",
       "</div>"
      ],
      "text/plain": [
       "                                위도          경도        이용자수       남성비율  \\\n",
       "상호명            업종                                                       \n",
       " emart24(백령마을) 편의점       37.865568  127.738259  110.639344  52.842705   \n",
       "#탁구세상          실내집단운동시설  37.874463  127.745691  195.549180  51.854508   \n",
       "(주)도화전기        기타시설      37.876324  127.735091  156.967213  47.345902   \n",
       "(주)동서엔지니어링     기타시설      37.858317  127.741909  142.262295  49.975574   \n",
       "(주)리저브카본       기타시설      37.856751  127.741591   90.704918  39.088934   \n",
       "\n",
       "                              여성비율      10대비율      20대비율      30대비율  \\\n",
       "상호명            업종                                                     \n",
       " emart24(백령마을) 편의점       47.157295  12.965328  20.530164  23.040574   \n",
       "#탁구세상          실내집단운동시설  48.145492  11.548607  18.544672  21.679098   \n",
       "(주)도화전기        기타시설      52.654098  13.329344  20.643033  23.126885   \n",
       "(주)동서엔지니어링     기타시설      50.024426  15.588852  21.300902  19.929098   \n",
       "(주)리저브카본       기타시설      60.911066  15.628607  21.429016  20.435492   \n",
       "\n",
       "                             40대비율    50대이상비율  \n",
       "상호명            업종                              \n",
       " emart24(백령마을) 편의점       21.432049  22.031885  \n",
       "#탁구세상          실내집단운동시설  19.795984  28.431639  \n",
       "(주)도화전기        기타시설      21.182541  21.718197  \n",
       "(주)동서엔지니어링     기타시설      21.641885  21.539262  \n",
       "(주)리저브카본       기타시설      20.035000  22.471885  "
      ]
     },
     "execution_count": 11,
     "metadata": {},
     "output_type": "execute_result"
    }
   ],
   "source": [
    "Df.head()"
   ]
  },
  {
   "cell_type": "markdown",
   "id": "dddcd435",
   "metadata": {},
   "source": [
    "### 결과 확인하기"
   ]
  },
  {
   "cell_type": "code",
   "execution_count": 12,
   "id": "495ccaff",
   "metadata": {},
   "outputs": [
    {
     "name": "stdout",
     "output_type": "stream",
     "text": [
      "count     7998.000000\n",
      "mean       807.534366\n",
      "std       6092.521306\n",
      "min         69.442623\n",
      "25%         88.663934\n",
      "50%        113.622951\n",
      "75%        167.227459\n",
      "max      87294.483607\n",
      "Name: 이용자수, dtype: float64\n",
      "\n",
      " count    2964.000000\n",
      "mean      125.462228\n",
      "std        31.806634\n",
      "min        88.663934\n",
      "25%       100.137295\n",
      "50%       116.282787\n",
      "75%       142.588115\n",
      "max       231.368852\n",
      "Name: 이용자수, dtype: float64\n"
     ]
    }
   ],
   "source": [
    "print(df['이용자수'].describe())\n",
    "print('\\n',Df['이용자수'].describe())"
   ]
  },
  {
   "cell_type": "code",
   "execution_count": 13,
   "id": "bb445847",
   "metadata": {},
   "outputs": [
    {
     "name": "stdout",
     "output_type": "stream",
     "text": [
      "count    7998.000000\n",
      "mean       19.353533\n",
      "std         3.522036\n",
      "min         2.012131\n",
      "25%        17.684693\n",
      "50%        20.564795\n",
      "75%        21.150205\n",
      "max        41.248852\n",
      "Name: 20대비율, dtype: float64\n",
      "\n",
      " count    2964.000000\n",
      "mean       20.934387\n",
      "std         3.236052\n",
      "min        17.966107\n",
      "25%        18.894734\n",
      "50%        20.675082\n",
      "75%        21.177029\n",
      "max        34.974098\n",
      "Name: 20대비율, dtype: float64\n"
     ]
    }
   ],
   "source": [
    "print(df['20대비율'].describe())\n",
    "print('\\n',Df['20대비율'].describe())"
   ]
  },
  {
   "cell_type": "code",
   "execution_count": 14,
   "id": "d441f8a4",
   "metadata": {},
   "outputs": [
    {
     "name": "stdout",
     "output_type": "stream",
     "text": [
      "count    7998.000000\n",
      "mean       21.541176\n",
      "std         3.758424\n",
      "min         2.060656\n",
      "25%        19.796865\n",
      "50%        22.008484\n",
      "75%        23.149098\n",
      "max        31.085656\n",
      "Name: 30대비율, dtype: float64\n",
      "\n",
      " count    2964.000000\n",
      "mean       22.865584\n",
      "std         2.273438\n",
      "min        19.797049\n",
      "25%        21.551885\n",
      "50%        22.820738\n",
      "75%        23.599078\n",
      "max        30.877705\n",
      "Name: 30대비율, dtype: float64\n"
     ]
    }
   ],
   "source": [
    "print(df['30대비율'].describe())\n",
    "print('\\n',Df['30대비율'].describe())"
   ]
  },
  {
   "cell_type": "markdown",
   "id": "234b435c",
   "metadata": {},
   "source": [
    "### 변경된 값 시각화"
   ]
  },
  {
   "cell_type": "code",
   "execution_count": 20,
   "id": "0fd96c2c",
   "metadata": {},
   "outputs": [
    {
     "data": {
      "image/png": "[encoded data removed]",
      "text/plain": [
       "<Figure size 1000x600 with 1 Axes>"
      ]
     },
     "metadata": {},
     "output_type": "display_data"
    }
   ],
   "source": [
    "plt.boxplot(Df['이용자수'])\n",
    "plt.title('user data')\n",
    "plt.show()"
   ]
  },
  {
   "cell_type": "code",
   "execution_count": 21,
   "id": "2ace63f3",
   "metadata": {},
   "outputs": [
    {
     "data": {
      "image/png": "[encoded data removed]",
      "text/plain": [
       "<Figure size 1000x600 with 1 Axes>"
      ]
     },
     "metadata": {},
     "output_type": "display_data"
    }
   ],
   "source": [
    "plt.boxplot(Df['20대비율'])\n",
    "plt.title('20 users ratio')\n",
    "plt.show()"
   ]
  },
  {
   "cell_type": "code",
   "execution_count": 15,
   "id": "30503105",
   "metadata": {
    "scrolled": true
   },
   "outputs": [
    {
     "data": {
      "image/png": "[encoded data removed]",
      "text/plain": [
       "<Figure size 1000x600 with 1 Axes>"
      ]
     },
     "metadata": {},
     "output_type": "display_data"
    }
   ],
   "source": [
    "plt.boxplot(Df['30대비율'])\n",
    "plt.title('30 users ratio')\n",
    "plt.show()"
   ]
  },
  {
   "cell_type": "markdown",
   "id": "23cdc89c",
   "metadata": {},
   "source": [
    "### 데이터 저장하기"
   ]
  },
  {
   "cell_type": "code",
   "execution_count": 16,
   "id": "a994acd3",
   "metadata": {},
   "outputs": [],
   "source": [
    "Df.to_csv('7~11월_평균.csv')"
   ]
  },
  {
   "cell_type": "code",
   "execution_count": null,
   "id": "63982dba",
   "metadata": {},
   "outputs": [],
   "source": []
  }
 ],
 "metadata": {
  "kernelspec": {
   "display_name": "Python 3 (ipykernel)",
   "language": "python",
   "name": "python3"
  },
  "language_info": {
   "codemirror_mode": {
    "name": "ipython",
    "version": 3
   },
   "file_extension": ".py",
   "mimetype": "text/x-python",
   "name": "python",
   "nbconvert_exporter": "python",
   "pygments_lexer": "ipython3",
   "version": "3.8.12"
  }
 },
 "nbformat": 4,
 "nbformat_minor": 5
}
