{
 "cells": [
  {
   "cell_type": "markdown",
   "id": "1631b911",
   "metadata": {},
   "source": [
    "# 인스타그램 태그 검색어로 이미지 크롤링\n",
    "\n",
    "검색했을때 나오는 약 30장만 크롤링 됨\n",
    "\n",
    "소스코드 : https://0ver-grow.tistory.com/997"
   ]
  },
  {
   "cell_type": "code",
   "execution_count": 29,
   "id": "e3ba3a6d",
   "metadata": {},
   "outputs": [],
   "source": [
    "# !pip install selenium\n",
    "# !pip install beautifulsoup4"
   ]
  },
  {
   "cell_type": "code",
   "execution_count": 1,
   "id": "8d857c8b",
   "metadata": {},
   "outputs": [],
   "source": [
    "from urllib.request import urlopen\n",
    "from urllib.parse import quote_plus as qp #아스키코드로 변환\n",
    "from bs4 import BeautifulSoup\n",
    "from selenium import webdriver\n",
    "import time"
   ]
  },
  {
   "cell_type": "markdown",
   "id": "14712c42",
   "metadata": {},
   "source": [
    "#### 검색어 입력 코드"
   ]
  },
  {
   "cell_type": "code",
   "execution_count": 2,
   "id": "c5e6144b",
   "metadata": {},
   "outputs": [
    {
     "name": "stdout",
     "output_type": "stream",
     "text": [
      "검색할 태그 입력: 망고 패션 프루트 블렌디드\n",
      "https://www.instagram.com/explore/tags/%EB%A7%9D%EA%B3%A0+%ED%8C%A8%EC%85%98+%ED%94%84%EB%A3%A8%ED%8A%B8+%EB%B8%94%EB%A0%8C%EB%94%94%EB%93%9C\n"
     ]
    }
   ],
   "source": [
    "baseurl = 'https://www.instagram.com/explore/tags/'\n",
    "plusurl = input('검색할 태그 입력: ')\n",
    "url = baseurl + qp(plusurl)\n",
    "print(url)"
   ]
  },
  {
   "cell_type": "markdown",
   "id": "f5e1f086",
   "metadata": {},
   "source": [
    "#### 이미지가 속한 공통적인 클래스 명으로 내용물 가져오기 \n",
    "> ._aabd._aa8k._aanf"
   ]
  },
  {
   "cell_type": "code",
   "execution_count": 3,
   "id": "2af694c3",
   "metadata": {},
   "outputs": [
    {
     "ename": "IndexError",
     "evalue": "list index out of range",
     "output_type": "error",
     "traceback": [
      "\u001b[1;31m---------------------------------------------------------------------------\u001b[0m",
      "\u001b[1;31mIndexError\u001b[0m                                Traceback (most recent call last)",
      "\u001b[1;32m~\\AppData\\Local\\Temp/ipykernel_20688/365842180.py\u001b[0m in \u001b[0;36m<module>\u001b[1;34m\u001b[0m\n\u001b[0;32m      6\u001b[0m \u001b[1;33m\u001b[0m\u001b[0m\n\u001b[0;32m      7\u001b[0m \u001b[0minsta\u001b[0m \u001b[1;33m=\u001b[0m \u001b[0msoup\u001b[0m\u001b[1;33m.\u001b[0m\u001b[0mselect\u001b[0m\u001b[1;33m(\u001b[0m\u001b[1;34m'._aabd._aa8k._aanf'\u001b[0m\u001b[1;33m)\u001b[0m\u001b[1;33m\u001b[0m\u001b[1;33m\u001b[0m\u001b[0m\n\u001b[1;32m----> 8\u001b[1;33m \u001b[0mprint\u001b[0m\u001b[1;33m(\u001b[0m\u001b[0minsta\u001b[0m\u001b[1;33m[\u001b[0m\u001b[1;36m0\u001b[0m\u001b[1;33m]\u001b[0m\u001b[1;33m)\u001b[0m \u001b[1;31m#첫번째 이미지 내용\u001b[0m\u001b[1;33m\u001b[0m\u001b[1;33m\u001b[0m\u001b[0m\n\u001b[0m\u001b[0;32m      9\u001b[0m \u001b[0mdriver\u001b[0m\u001b[1;33m.\u001b[0m\u001b[0mclose\u001b[0m\u001b[1;33m(\u001b[0m\u001b[1;33m)\u001b[0m\u001b[1;33m\u001b[0m\u001b[1;33m\u001b[0m\u001b[0m\n",
      "\u001b[1;31mIndexError\u001b[0m: list index out of range"
     ]
    }
   ],
   "source": [
    "driver = webdriver.Chrome()\n",
    "driver.get(url)\n",
    "time.sleep(3) #딜레이 방지용\n",
    "html = driver.page_source\n",
    "soup = BeautifulSoup(html)\n",
    "\n",
    "insta = soup.select('._aabd._aa8k._aanf')\n",
    "print(insta[0]) #첫번째 이미지 내용\n",
    "driver.close()"
   ]
  },
  {
   "cell_type": "markdown",
   "id": "c2c3b737",
   "metadata": {},
   "source": [
    "#### 가져올 이미지의 a태그 속성 href 참고하여 이미지 주소 가져오기"
   ]
  },
  {
   "cell_type": "code",
   "execution_count": null,
   "id": "346bc78a",
   "metadata": {},
   "outputs": [],
   "source": [
    "driver = webdriver.Chrome()\n",
    "driver.get(url)\n",
    "time.sleep(3) #딜레이 방지용\n",
    "html = driver.page_source\n",
    "soup = BeautifulSoup(html)\n",
    "\n",
    "insta = soup.select('._aabd._aa8k._aanf')\n",
    "\n",
    "for i in insta:\n",
    "    print(i.a['href'])\n",
    "    \n",
    "driver.close()"
   ]
  },
  {
   "cell_type": "markdown",
   "id": "bd6721b2",
   "metadata": {},
   "source": [
    "#### 전체 코드"
   ]
  },
  {
   "cell_type": "code",
   "execution_count": 5,
   "id": "b3bbd63b",
   "metadata": {},
   "outputs": [
    {
     "name": "stdout",
     "output_type": "stream",
     "text": [
      "검색할 태그 입력: 망고 패션 프루트 블렌디드\n",
      "https://www.instagram.com/explore/tags/%EB%A7%9D%EA%B3%A0+%ED%8C%A8%EC%85%98+%ED%94%84%EB%A3%A8%ED%8A%B8+%EB%B8%94%EB%A0%8C%EB%94%94%EB%93%9C\n"
     ]
    }
   ],
   "source": [
    "baseurl = 'https://www.instagram.com/explore/tags/'\n",
    "plusurl = input('검색할 태그 입력: ')\n",
    "url = baseurl + qp(plusurl)\n",
    "print(url)\n",
    "\n",
    "driver = webdriver.Chrome()\n",
    "driver.get(url)\n",
    "time.sleep(3) #딜레이 방지용\n",
    "html = driver.page_source\n",
    "soup = BeautifulSoup(html)\n",
    "\n",
    "insta = soup.select('._aabd._aa8k._aanf')\n",
    "\n",
    "n = 1\n",
    "for i in insta:\n",
    "    print(\"https://www.instagram.com\"+i.a['href']) # a태그의 속성 href만 가져오기\n",
    "    imgUrl = i.select_one('._aagv').img['src']\n",
    "    \n",
    "    with urlopen(imgUrl) as f:\n",
    "        with open('./img/'+plusurl+str(n)+'.jpg','wb') as h:\n",
    "            img = f.read()\n",
    "            h.write(img)\n",
    "        n += 1\n",
    "        \n",
    "driver.close()"
   ]
  },
  {
   "cell_type": "markdown",
   "id": "02357958",
   "metadata": {},
   "source": [
    "# 인스타그램 검색어로 이미지 크롤링 2\n",
    "\n",
    "스크롤 내라고, 페이지 바꿔가며 이미지 저장 가능하도록\n",
    "\n",
    "소스코드 : https://dahaha.tistory.com/76"
   ]
  },
  {
   "cell_type": "code",
   "execution_count": 6,
   "id": "6e658a62",
   "metadata": {},
   "outputs": [],
   "source": [
    "from urllib.request import urlopen\n",
    "from urllib.parse import quote_plus as qp #아스키코드로 변환\n",
    "from bs4 import BeautifulSoup\n",
    "from selenium import webdriver\n",
    "import time\n",
    "import requests\n",
    "import shutil"
   ]
  },
  {
   "cell_type": "code",
   "execution_count": 7,
   "id": "0308a057",
   "metadata": {},
   "outputs": [
    {
     "name": "stdout",
     "output_type": "stream",
     "text": [
      "검색할 태그 입력: 망고 패션 프루트 블렌디드\n"
     ]
    },
    {
     "ename": "WebDriverException",
     "evalue": "Message: chrome not reachable\n  (Session info: chrome=104.0.5112.82)\nStacktrace:\nBacktrace:\n\tOrdinal0 [0x011D5FD3+2187219]\n\tOrdinal0 [0x0116E6D1+1763025]\n\tOrdinal0 [0x01083D40+802112]\n\tOrdinal0 [0x01078A12+756242]\n\tOrdinal0 [0x01079248+758344]\n\tOrdinal0 [0x0107AB02+764674]\n\tOrdinal0 [0x01074379+738169]\n\tOrdinal0 [0x010851D0+807376]\n\tOrdinal0 [0x010DC7A2+1165218]\n\tOrdinal0 [0x010CC9A6+1100198]\n\tOrdinal0 [0x010A6F80+946048]\n\tOrdinal0 [0x010A7E76+949878]\n\tGetHandleVerifier [0x014790C2+2721218]\n\tGetHandleVerifier [0x0146AAF0+2662384]\n\tGetHandleVerifier [0x0126137A+526458]\n\tGetHandleVerifier [0x01260416+522518]\n\tOrdinal0 [0x01174EAB+1789611]\n\tOrdinal0 [0x011797A8+1808296]\n\tOrdinal0 [0x01179895+1808533]\n\tOrdinal0 [0x011826C1+1844929]\n\tBaseThreadInitThunk [0x75F06739+25]\n\tRtlGetFullPathName_UEx [0x773B90AF+1215]\n\tRtlGetFullPathName_UEx [0x773B907D+1165]\n",
     "output_type": "error",
     "traceback": [
      "\u001b[1;31m---------------------------------------------------------------------------\u001b[0m",
      "\u001b[1;31mWebDriverException\u001b[0m                        Traceback (most recent call last)",
      "\u001b[1;32m~\\AppData\\Local\\Temp/ipykernel_20688/3124079213.py\u001b[0m in \u001b[0;36m<module>\u001b[1;34m\u001b[0m\n\u001b[0;32m     25\u001b[0m         \u001b[0minsta\u001b[0m \u001b[1;33m=\u001b[0m \u001b[0msoup\u001b[0m\u001b[1;33m.\u001b[0m\u001b[0mselect\u001b[0m\u001b[1;33m(\u001b[0m\u001b[1;34m'._aabd._aa8k._aanf'\u001b[0m\u001b[1;33m)\u001b[0m\u001b[1;33m\u001b[0m\u001b[1;33m\u001b[0m\u001b[0m\n\u001b[0;32m     26\u001b[0m \u001b[1;33m\u001b[0m\u001b[0m\n\u001b[1;32m---> 27\u001b[1;33m     \u001b[0mdriver\u001b[0m\u001b[1;33m.\u001b[0m\u001b[0mexecute_script\u001b[0m\u001b[1;33m(\u001b[0m\u001b[1;34m'window.scrollTo(0, document.body.scrollHeight);'\u001b[0m\u001b[1;33m)\u001b[0m\u001b[1;33m\u001b[0m\u001b[1;33m\u001b[0m\u001b[0m\n\u001b[0m\u001b[0;32m     28\u001b[0m     \u001b[0mtime\u001b[0m\u001b[1;33m.\u001b[0m\u001b[0msleep\u001b[0m\u001b[1;33m(\u001b[0m\u001b[1;36m2\u001b[0m\u001b[1;33m)\u001b[0m\u001b[1;33m\u001b[0m\u001b[1;33m\u001b[0m\u001b[0m\n\u001b[0;32m     29\u001b[0m \u001b[1;33m\u001b[0m\u001b[0m\n",
      "\u001b[1;32mC:\\Anaconda3\\lib\\site-packages\\selenium\\webdriver\\remote\\webdriver.py\u001b[0m in \u001b[0;36mexecute_script\u001b[1;34m(self, script, *args)\u001b[0m\n\u001b[0;32m    491\u001b[0m         \u001b[0mcommand\u001b[0m \u001b[1;33m=\u001b[0m \u001b[0mCommand\u001b[0m\u001b[1;33m.\u001b[0m\u001b[0mW3C_EXECUTE_SCRIPT\u001b[0m\u001b[1;33m\u001b[0m\u001b[1;33m\u001b[0m\u001b[0m\n\u001b[0;32m    492\u001b[0m \u001b[1;33m\u001b[0m\u001b[0m\n\u001b[1;32m--> 493\u001b[1;33m         return self.execute(command, {\n\u001b[0m\u001b[0;32m    494\u001b[0m             \u001b[1;34m'script'\u001b[0m\u001b[1;33m:\u001b[0m \u001b[0mscript\u001b[0m\u001b[1;33m,\u001b[0m\u001b[1;33m\u001b[0m\u001b[1;33m\u001b[0m\u001b[0m\n\u001b[0;32m    495\u001b[0m             'args': converted_args})['value']\n",
      "\u001b[1;32mC:\\Anaconda3\\lib\\site-packages\\selenium\\webdriver\\remote\\webdriver.py\u001b[0m in \u001b[0;36mexecute\u001b[1;34m(self, driver_command, params)\u001b[0m\n\u001b[0;32m    433\u001b[0m         \u001b[0mresponse\u001b[0m \u001b[1;33m=\u001b[0m \u001b[0mself\u001b[0m\u001b[1;33m.\u001b[0m\u001b[0mcommand_executor\u001b[0m\u001b[1;33m.\u001b[0m\u001b[0mexecute\u001b[0m\u001b[1;33m(\u001b[0m\u001b[0mdriver_command\u001b[0m\u001b[1;33m,\u001b[0m \u001b[0mparams\u001b[0m\u001b[1;33m)\u001b[0m\u001b[1;33m\u001b[0m\u001b[1;33m\u001b[0m\u001b[0m\n\u001b[0;32m    434\u001b[0m         \u001b[1;32mif\u001b[0m \u001b[0mresponse\u001b[0m\u001b[1;33m:\u001b[0m\u001b[1;33m\u001b[0m\u001b[1;33m\u001b[0m\u001b[0m\n\u001b[1;32m--> 435\u001b[1;33m             \u001b[0mself\u001b[0m\u001b[1;33m.\u001b[0m\u001b[0merror_handler\u001b[0m\u001b[1;33m.\u001b[0m\u001b[0mcheck_response\u001b[0m\u001b[1;33m(\u001b[0m\u001b[0mresponse\u001b[0m\u001b[1;33m)\u001b[0m\u001b[1;33m\u001b[0m\u001b[1;33m\u001b[0m\u001b[0m\n\u001b[0m\u001b[0;32m    436\u001b[0m             response['value'] = self._unwrap_value(\n\u001b[0;32m    437\u001b[0m                 response.get('value', None))\n",
      "\u001b[1;32mC:\\Anaconda3\\lib\\site-packages\\selenium\\webdriver\\remote\\errorhandler.py\u001b[0m in \u001b[0;36mcheck_response\u001b[1;34m(self, response)\u001b[0m\n\u001b[0;32m    245\u001b[0m                 \u001b[0malert_text\u001b[0m \u001b[1;33m=\u001b[0m \u001b[0mvalue\u001b[0m\u001b[1;33m[\u001b[0m\u001b[1;34m'alert'\u001b[0m\u001b[1;33m]\u001b[0m\u001b[1;33m.\u001b[0m\u001b[0mget\u001b[0m\u001b[1;33m(\u001b[0m\u001b[1;34m'text'\u001b[0m\u001b[1;33m)\u001b[0m\u001b[1;33m\u001b[0m\u001b[1;33m\u001b[0m\u001b[0m\n\u001b[0;32m    246\u001b[0m             \u001b[1;32mraise\u001b[0m \u001b[0mexception_class\u001b[0m\u001b[1;33m(\u001b[0m\u001b[0mmessage\u001b[0m\u001b[1;33m,\u001b[0m \u001b[0mscreen\u001b[0m\u001b[1;33m,\u001b[0m \u001b[0mstacktrace\u001b[0m\u001b[1;33m,\u001b[0m \u001b[0malert_text\u001b[0m\u001b[1;33m)\u001b[0m  \u001b[1;31m# type: ignore[call-arg]  # mypy is not smart enough here\u001b[0m\u001b[1;33m\u001b[0m\u001b[1;33m\u001b[0m\u001b[0m\n\u001b[1;32m--> 247\u001b[1;33m         \u001b[1;32mraise\u001b[0m \u001b[0mexception_class\u001b[0m\u001b[1;33m(\u001b[0m\u001b[0mmessage\u001b[0m\u001b[1;33m,\u001b[0m \u001b[0mscreen\u001b[0m\u001b[1;33m,\u001b[0m \u001b[0mstacktrace\u001b[0m\u001b[1;33m)\u001b[0m\u001b[1;33m\u001b[0m\u001b[1;33m\u001b[0m\u001b[0m\n\u001b[0m\u001b[0;32m    248\u001b[0m \u001b[1;33m\u001b[0m\u001b[0m\n\u001b[0;32m    249\u001b[0m     \u001b[1;32mdef\u001b[0m \u001b[0m_value_or_default\u001b[0m\u001b[1;33m(\u001b[0m\u001b[0mself\u001b[0m\u001b[1;33m,\u001b[0m \u001b[0mobj\u001b[0m\u001b[1;33m:\u001b[0m \u001b[0mMapping\u001b[0m\u001b[1;33m[\u001b[0m\u001b[0m_KT\u001b[0m\u001b[1;33m,\u001b[0m \u001b[0m_VT\u001b[0m\u001b[1;33m]\u001b[0m\u001b[1;33m,\u001b[0m \u001b[0mkey\u001b[0m\u001b[1;33m:\u001b[0m \u001b[0m_KT\u001b[0m\u001b[1;33m,\u001b[0m \u001b[0mdefault\u001b[0m\u001b[1;33m:\u001b[0m \u001b[0m_VT\u001b[0m\u001b[1;33m)\u001b[0m \u001b[1;33m->\u001b[0m \u001b[0m_VT\u001b[0m\u001b[1;33m:\u001b[0m\u001b[1;33m\u001b[0m\u001b[1;33m\u001b[0m\u001b[0m\n",
      "\u001b[1;31mWebDriverException\u001b[0m: Message: chrome not reachable\n  (Session info: chrome=104.0.5112.82)\nStacktrace:\nBacktrace:\n\tOrdinal0 [0x011D5FD3+2187219]\n\tOrdinal0 [0x0116E6D1+1763025]\n\tOrdinal0 [0x01083D40+802112]\n\tOrdinal0 [0x01078A12+756242]\n\tOrdinal0 [0x01079248+758344]\n\tOrdinal0 [0x0107AB02+764674]\n\tOrdinal0 [0x01074379+738169]\n\tOrdinal0 [0x010851D0+807376]\n\tOrdinal0 [0x010DC7A2+1165218]\n\tOrdinal0 [0x010CC9A6+1100198]\n\tOrdinal0 [0x010A6F80+946048]\n\tOrdinal0 [0x010A7E76+949878]\n\tGetHandleVerifier [0x014790C2+2721218]\n\tGetHandleVerifier [0x0146AAF0+2662384]\n\tGetHandleVerifier [0x0126137A+526458]\n\tGetHandleVerifier [0x01260416+522518]\n\tOrdinal0 [0x01174EAB+1789611]\n\tOrdinal0 [0x011797A8+1808296]\n\tOrdinal0 [0x01179895+1808533]\n\tOrdinal0 [0x011826C1+1844929]\n\tBaseThreadInitThunk [0x75F06739+25]\n\tRtlGetFullPathName_UEx [0x773B90AF+1215]\n\tRtlGetFullPathName_UEx [0x773B907D+1165]\n"
     ]
    }
   ],
   "source": [
    "baseurl = 'https://www.instagram.com/explore/tags/'\n",
    "plusurl = input('검색할 태그 입력: ')\n",
    "url = baseurl + qp(plusurl)\n",
    "\n",
    "driver = webdriver.Chrome()\n",
    "driver.get(url)\n",
    "\n",
    "time.sleep(3)\n",
    "\n",
    "html = driver.page_source\n",
    "soup = BeautifulSoup(html)\n",
    "\n",
    "imglist = []\n",
    "\n",
    "for j in range(0, 15): #스크롤 내리는 반복 횟수\n",
    "    insta = soup.select('._aabd._aa8k._aanf')\n",
    "    \n",
    "    for i in insta:\n",
    "        print(\"https://www.instagram.com\"+i.a['href']) # a태그의 속성 href만 가져오기\n",
    "        imgUrl = i.select_one('._aagv').img['src']\n",
    "        imglist.append(imgUrl)\n",
    "        imglist = list(set(imglist))\n",
    "        html = driver.page_source\n",
    "        soup = BeautifulSoup(html)\n",
    "        insta = soup.select('._aabd._aa8k._aanf')\n",
    "    \n",
    "    driver.execute_script('window.scrollTo(0, document.body.scrollHeight);')\n",
    "    time.sleep(2)\n",
    "    \n",
    "n = 0\n",
    "\n",
    "for i in range(0,100):\n",
    "    # this is the image url\n",
    "    image_url = imglist[n]\n",
    "    # open the url image, set stream to True, this will return the stream content.\n",
    "\n",
    "    resp = requests.get(image_url, stream=True)\n",
    "    #Open a local file with wb{write binary} permission\n",
    "\n",
    "    local_file = open('./img/'+plusurl+str(n)+'.jpg','wb')\n",
    "    # Set decode_content value to True, otherwise the downloaded image file's size will be zero\n",
    "    resp.raw.decode_content = True\n",
    "    # Copy the response stream raw data to local image file\n",
    "    shutil.copyfileobj(resp.raw, local_file)\n",
    "    # Remove the image url response object\n",
    "    n += 1\n",
    "    del resp\n",
    "    \n",
    "        \n",
    "driver.close()"
   ]
  },
  {
   "cell_type": "code",
   "execution_count": 7,
   "id": "25b9555e",
   "metadata": {},
   "outputs": [
    {
     "data": {
      "text/plain": [
       "[]"
      ]
     },
     "execution_count": 7,
     "metadata": {},
     "output_type": "execute_result"
    }
   ],
   "source": [
    "imglist"
   ]
  },
  {
   "cell_type": "code",
   "execution_count": null,
   "id": "c76794fd",
   "metadata": {},
   "outputs": [],
   "source": []
  }
 ],
 "metadata": {
  "kernelspec": {
   "display_name": "Python 3 (ipykernel)",
   "language": "python",
   "name": "python3"
  },
  "language_info": {
   "codemirror_mode": {
    "name": "ipython",
    "version": 3
   },
   "file_extension": ".py",
   "mimetype": "text/x-python",
   "name": "python",
   "nbconvert_exporter": "python",
   "pygments_lexer": "ipython3",
   "version": "3.8.12"
  }
 },
 "nbformat": 4,
 "nbformat_minor": 5
}
