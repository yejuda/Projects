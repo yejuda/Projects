{
 "cells": [
  {
   "cell_type": "markdown",
   "id": "7a0651aa",
   "metadata": {},
   "source": [
    "## 첫번째 시도"
   ]
  },
  {
   "cell_type": "code",
   "execution_count": 1,
   "id": "ce1e432c",
   "metadata": {},
   "outputs": [],
   "source": [
    "from urllib.request import urlopen\n",
    "from urllib.parse import quote_plus as qp #아스키코드로 변환\n",
    "from bs4 import BeautifulSoup\n",
    "from selenium import webdriver\n",
    "import time"
   ]
  },
  {
   "cell_type": "code",
   "execution_count": 2,
   "id": "0846161d",
   "metadata": {},
   "outputs": [
    {
     "name": "stdout",
     "output_type": "stream",
     "text": [
      "검색할 태그 입력: 스타벅스\n",
      "https://www.instagram.com/explore/tags/%EC%8A%A4%ED%83%80%EB%B2%85%EC%8A%A4\n"
     ]
    }
   ],
   "source": [
    "baseurl = 'https://www.instagram.com/explore/tags/'\n",
    "plusurl = input('검색할 태그 입력: ')\n",
    "url = baseurl + qp(plusurl)\n",
    "print(url)"
   ]
  },
  {
   "cell_type": "code",
   "execution_count": 6,
   "id": "a36349ce",
   "metadata": {},
   "outputs": [],
   "source": [
    "driver = webdriver.Chrome()\n",
    "driver.get(url)\n",
    "time.sleep(3) #딜레이 방지용\n",
    "html = driver.page_source\n",
    "soup = BeautifulSoup(html)\n",
    "\n",
    "insta = soup.select('_aabd _aa8k _aanf')\n",
    "\n",
    "# 이미지 수집, 저장하기\n",
    "# 참고로. 이미지추가하는 스크롤 기능 미사용\n",
    "n = 1  # 이미지 순번\n",
    "for i in insta:\n",
    "    print('https://www.instagram.com'+i.a['href']) # a태그의 속성href만 가져오기\n",
    "    imgUrl = i.select_one('_aagv').img['src']  # 이미지가 속한 태그 > src태그만 가져오기\n",
    "    \n",
    "    with urlopen(imgUrl) as f:\n",
    "        # 저장위치 : img 폴더\n",
    "        # 파일명 : 검색어 + 순서, 확장자 : jpg, 이미지 파일쓰기 : wb\n",
    "        with open(\"./img/\" + plusUrl + str(n) + '.jpg', 'wb') as h:\n",
    "            img = f.read()\n",
    "            h.write(img)\n",
    "        n += 1\n",
    "driver.close()  # 작업 완료 후 웹드라이버 종료"
   ]
  },
  {
   "cell_type": "code",
   "execution_count": null,
   "id": "dc6475c4",
   "metadata": {},
   "outputs": [],
   "source": []
  },
  {
   "cell_type": "code",
   "execution_count": null,
   "id": "ba2320cc",
   "metadata": {},
   "outputs": [],
   "source": []
  },
  {
   "cell_type": "code",
   "execution_count": null,
   "id": "75e56c32",
   "metadata": {},
   "outputs": [],
   "source": []
  },
  {
   "cell_type": "markdown",
   "id": "49b5e1c9",
   "metadata": {},
   "source": [
    "## 두번째 시도(저장되긴 함)\n",
    "- 스크롤 X"
   ]
  },
  {
   "cell_type": "code",
   "execution_count": 32,
   "id": "f0f969a8",
   "metadata": {},
   "outputs": [
    {
     "name": "stdout",
     "output_type": "stream",
     "text": [
      "검색할 태그를 입력하세요 : 스타벅스\n"
     ]
    },
    {
     "name": "stderr",
     "output_type": "stream",
     "text": [
      "C:\\Users\\이예주\\AppData\\Local\\Temp/ipykernel_30248/1567899603.py:21: DeprecationWarning: executable_path has been deprecated, please pass in a Service object\n",
      "  driver = webdriver.Chrome(ChromeDriverManager().install())\n"
     ]
    }
   ],
   "source": [
    "from urllib.request import urlopen\n",
    "from urllib.parse import quote_plus # 아스키 코드로 변환시켜준다.\n",
    "from bs4 import BeautifulSoup\n",
    "from selenium import webdriver\n",
    "from webdriver_manager.chrome import ChromeDriverManager\n",
    "import time\n",
    "\n",
    "# 변수 url 에 저장될 url 형식은 아래와 같다.\n",
    "# https://www.instagram.com/explore/tags/%EC%95%84%EC%9D%B4%EC%9C%A0/\n",
    "\n",
    "# baseUrl은 검색하기 전의 베이스가 되는 url이다.\n",
    "baseUrl = 'https://www.instagram.com/explore/tags/'\n",
    "#plusUrl은 input으로 검색어를 받아서 아래에서 baseUrl에 추가되는 url이다.\n",
    "plusUrl = input('검색할 태그를 입력하세요 : ')\n",
    "#plusUrl로 받아온 검색어를 quote_plus 모듈로 아스키 코드로 변환시킨 뒤, url에 저장시킨다.\n",
    "url = baseUrl + quote_plus(plusUrl)\n",
    "\n",
    "# 인스타그램의 페이지 소스를 보면 대부분 JavaScript다. 그래서 selenium 의 webdriver 가 필요하다.\n",
    "# beautifulSoup로 JavaScript로 되어있는 사이트는 크롤링 할 수 없다.\n",
    "\n",
    "driver = webdriver.Chrome(ChromeDriverManager().install())\n",
    "driver.get(url) # 드라이버를 띄운다. (크롬 웹 페이지를 연다.)\n"
   ]
  },
  {
   "cell_type": "code",
   "execution_count": 33,
   "id": "e2ff7aa0",
   "metadata": {},
   "outputs": [],
   "source": [
    "# selenium 은 기본적으로 느리다.\n",
    "# 만약 속도가 매우 느리다면 사진이 하나하나씩 뜨는 경우가 생길 수 있으므로 사진이 다 뜨기 전에\n",
    "# 창이 닫히는 경우를 방지하기 위해 드라이버를 띄우고 나서 3초를 기다려 준다.\n",
    "# 여기서 3초를 기다린 다음에 아래에서 페이지 소스(이미지)들을 불러오기 시작한다.\n",
    "time.sleep(3)\n",
    "\n",
    "html = driver.page_source\n",
    "soup = BeautifulSoup(html)\n",
    "\n",
    "# select는 페이지에 있는 정보를 다 가져 온다.\n",
    "# 클래스가 여러 개면 기존 클래스의 공백을 없애고 .으로 연결시켜 주어야 한다.\n",
    "insta = soup.select('._aabd._aa8k._aanf')\n",
    "\n",
    "n = 1\n",
    "\n",
    "# 이미지 하나만 가져올 게 아니라 여러 개를 가져올 것이므로 반복문을 쓴다.\n",
    "for i in insta:\n",
    "    # 인스타 주소에 i번 째의 a태그의 href 속성을 더하여 출력한다.\n",
    "    print('https://www.instagram.com' + i.a['href'])\n",
    "    # 인스타 페이지 소스에서 이미지에 해당하는 클래스의 이미지 태그의 src 속성을 imgUrl에 저장한다.\n",
    "    imgUrl = i.select_one('._aagv').img['src']\n",
    "    with urlopen(imgUrl) as f:\n",
    "        # img라는 폴더 안에 programmer(n).jpg 파일을 저장한다.\n",
    "        # 텍스트 파일이 아니기 때문에 w(write)만 쓰면 안되고 binary 모드를 추가시켜야 한다.\n",
    "        with open('./img/' + plusUrl + str(n) + '.jpg', \"wb\") as h:\n",
    "            # f를 읽고 img에 저장한다.\n",
    "            img = f.read()\n",
    "            # h에 위 내용을 쓴다.\n",
    "            h.write(img)\n",
    "    # 계속 programmer 1에 덮어쓰지 않도록 1을 증가시켜 준다\n",
    "    n += 1 \n",
    "    print(imgUrl)\n",
    "    # 출력한 걸 보았을 때 구분하기 좋도록 빈 줄을 추가시킨다.\n",
    "    print()\n",
    "# 마지막에 driver를 닫아준다. (열린 창을 닫는다.)     \n",
    "driver.close()"
   ]
  },
  {
   "cell_type": "code",
   "execution_count": null,
   "id": "cb1ec6d9",
   "metadata": {},
   "outputs": [],
   "source": []
  }
 ],
 "metadata": {
  "kernelspec": {
   "display_name": "Python 3 (ipykernel)",
   "language": "python",
   "name": "python3"
  },
  "language_info": {
   "codemirror_mode": {
    "name": "ipython",
    "version": 3
   },
   "file_extension": ".py",
   "mimetype": "text/x-python",
   "name": "python",
   "nbconvert_exporter": "python",
   "pygments_lexer": "ipython3",
   "version": "3.8.12"
  }
 },
 "nbformat": 4,
 "nbformat_minor": 5
}
