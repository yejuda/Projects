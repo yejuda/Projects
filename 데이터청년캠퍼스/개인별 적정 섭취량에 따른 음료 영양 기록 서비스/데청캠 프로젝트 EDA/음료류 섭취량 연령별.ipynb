{
 "cells": [
  {
   "cell_type": "code",
   "execution_count": 1,
   "id": "8a961a57",
   "metadata": {},
   "outputs": [],
   "source": [
    "%matplotlib inline\n",
    "\n",
    "import pandas as pd"
   ]
  },
  {
   "cell_type": "code",
   "execution_count": 2,
   "id": "a54624f1",
   "metadata": {},
   "outputs": [],
   "source": [
    "import matplotlib.pyplot as plt\n",
    "import platform\n",
    "from matplotlib import font_manager, rc\n",
    "plt.rcParams['axes.unicode_minus'] = False\n",
    "\n",
    "path = 'C:/Windows/Fonts/malgun.ttf'\n",
    "font_name = font_manager.FontProperties(fname=path).get_name()\n",
    "rc('font', family=font_name)"
   ]
  },
  {
   "cell_type": "code",
   "execution_count": 4,
   "id": "bf857337",
   "metadata": {},
   "outputs": [
    {
     "data": {
      "text/html": [
       "<div>\n",
       "<style scoped>\n",
       "    .dataframe tbody tr th:only-of-type {\n",
       "        vertical-align: middle;\n",
       "    }\n",
       "\n",
       "    .dataframe tbody tr th {\n",
       "        vertical-align: top;\n",
       "    }\n",
       "\n",
       "    .dataframe thead th {\n",
       "        text-align: right;\n",
       "    }\n",
       "</style>\n",
       "<table border=\"1\" class=\"dataframe\">\n",
       "  <thead>\n",
       "    <tr style=\"text-align: right;\">\n",
       "      <th></th>\n",
       "      <th>음료류 섭취량(단위:g)</th>\n",
       "    </tr>\n",
       "    <tr>\n",
       "      <th>나이</th>\n",
       "      <th></th>\n",
       "    </tr>\n",
       "  </thead>\n",
       "  <tbody>\n",
       "    <tr>\n",
       "      <th>1-2세</th>\n",
       "      <td>65.2</td>\n",
       "    </tr>\n",
       "    <tr>\n",
       "      <th>3-5세</th>\n",
       "      <td>101.3</td>\n",
       "    </tr>\n",
       "    <tr>\n",
       "      <th>6-11세</th>\n",
       "      <td>116.8</td>\n",
       "    </tr>\n",
       "    <tr>\n",
       "      <th>12-18세</th>\n",
       "      <td>210.7</td>\n",
       "    </tr>\n",
       "    <tr>\n",
       "      <th>19-29세</th>\n",
       "      <td>330.2</td>\n",
       "    </tr>\n",
       "    <tr>\n",
       "      <th>30-49세</th>\n",
       "      <td>291.0</td>\n",
       "    </tr>\n",
       "    <tr>\n",
       "      <th>50-64세</th>\n",
       "      <td>185.0</td>\n",
       "    </tr>\n",
       "    <tr>\n",
       "      <th>65+세</th>\n",
       "      <td>56.8</td>\n",
       "    </tr>\n",
       "  </tbody>\n",
       "</table>\n",
       "</div>"
      ],
      "text/plain": [
       "        음료류 섭취량(단위:g)\n",
       "나이                   \n",
       "1-2세             65.2\n",
       "3-5세            101.3\n",
       "6-11세           116.8\n",
       "12-18세          210.7\n",
       "19-29세          330.2\n",
       "30-49세          291.0\n",
       "50-64세          185.0\n",
       "65+세             56.8"
      ]
     },
     "execution_count": 4,
     "metadata": {},
     "output_type": "execute_result"
    }
   ],
   "source": [
    "# encoding = 'cp949' : 한글이 포함된 csv파일이나 텍스트 파일을 불러올때 생기는 오류 방지\n",
    "df = pd.read_csv(\"C:/Python/데청캠 프로젝트 EDA/연령별 음료류 섭취량.csv\",index_col = 0, encoding = 'cp949')\n",
    "df"
   ]
  },
  {
   "cell_type": "code",
   "execution_count": 5,
   "id": "dad501b4",
   "metadata": {},
   "outputs": [
    {
     "data": {
      "image/png": "[encoded data removed]",
      "text/plain": [
       "<Figure size 432x288 with 1 Axes>"
      ]
     },
     "metadata": {
      "needs_background": "light"
     },
     "output_type": "display_data"
    }
   ],
   "source": [
    "df.plot(kind = 'bar')\n",
    "plt.xticks(rotation=45)\n",
    "plt.show()"
   ]
  },
  {
   "cell_type": "code",
   "execution_count": null,
   "id": "d16269e3",
   "metadata": {},
   "outputs": [],
   "source": []
  }
 ],
 "metadata": {
  "kernelspec": {
   "display_name": "Python 3 (ipykernel)",
   "language": "python",
   "name": "python3"
  },
  "language_info": {
   "codemirror_mode": {
    "name": "ipython",
    "version": 3
   },
   "file_extension": ".py",
   "mimetype": "text/x-python",
   "name": "python",
   "nbconvert_exporter": "python",
   "pygments_lexer": "ipython3",
   "version": "3.8.12"
  }
 },
 "nbformat": 4,
 "nbformat_minor": 5
}
